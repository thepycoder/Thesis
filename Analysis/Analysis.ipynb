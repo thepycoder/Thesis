{
 "cells": [
  {
   "cell_type": "code",
   "execution_count": null,
   "metadata": {},
   "outputs": [],
   "source": [
    "%matplotlib inline\n",
    "import pandas as pd\n",
    "import plotly\n",
    "import os"
   ]
  },
  {
   "cell_type": "code",
   "execution_count": 4,
   "metadata": {},
   "outputs": [
    {
     "name": "stdout",
     "output_type": "stream",
     "text": [
      "            UP  DOWN\n",
      "Difficulty          \n",
      "E           25    21\n",
      "M           29    21\n",
      "H           92   108\n",
      "X            4     9\n"
     ]
    }
   ],
   "source": [
    "gt = pd.read_csv('../Groundtruth/Groundtruth.csv')\n",
    "cols = [col for col in gt.columns if 'UP' in col or 'DOWN' in col]\n",
    "results = gt.groupby('Difficulty')[cols].sum().reindex(['E', 'M', 'H', 'X'])\n",
    "\n",
    "print(results)"
   ]
  },
  {
   "cell_type": "code",
   "execution_count": 22,
   "metadata": {},
   "outputs": [
    {
     "name": "stdout",
     "output_type": "stream",
     "text": [
      "Average fps Yolo.csv 27.414375161105628\n",
      "Average fps haar_upper.csv 59.218481514130396\n",
      "Average fps hog_slow.csv 33.893849568988195\n",
      "Average fps MobileNet.csv 29.247464123454172\n",
      "Average fps haar_full.csv 86.11032142809493\n",
      "Average fps hog_fast.csv 63.54468063448681\n",
      "            UP  DOWN  UP_Yolo.csv  DOWN_Yolo.csv  RESULT_Yolo.csv  \\\n",
      "Difficulty                                                          \n",
      "E           25    21           23             21             0.96   \n",
      "M           29    21           17             17             0.68   \n",
      "H           92   108           49             80             0.64   \n",
      "X            4     9            2              5             0.54   \n",
      "\n",
      "            UP_haar_upper.csv  DOWN_haar_upper.csv  RESULT_haar_upper.csv  \\\n",
      "Difficulty                                                                  \n",
      "E                          16                   13                   0.63   \n",
      "M                           6                    8                   0.28   \n",
      "H                          17                   14                   0.16   \n",
      "X                           1                    1                   0.15   \n",
      "\n",
      "            UP_hog_slow.csv  DOWN_hog_slow.csv  RESULT_hog_slow.csv  \\\n",
      "Difficulty                                                            \n",
      "E                        11                 12                 0.50   \n",
      "M                         8                  9                 0.34   \n",
      "H                        23                 30                 0.26   \n",
      "X                         1                  1                 0.15   \n",
      "\n",
      "            UP_MobileNet.csv  DOWN_MobileNet.csv  RESULT_MobileNet.csv  \\\n",
      "Difficulty                                                               \n",
      "E                         25                  24                  0.93   \n",
      "M                         18                  22                  0.80   \n",
      "H                         58                  74                  0.66   \n",
      "X                          3                   6                  0.69   \n",
      "\n",
      "            UP_haar_full.csv  DOWN_haar_full.csv  RESULT_haar_full.csv  \\\n",
      "Difficulty                                                               \n",
      "E                          6                   7                  0.28   \n",
      "M                          2                   5                  0.14   \n",
      "H                          6                   8                  0.07   \n",
      "X                          2                   0                  0.15   \n",
      "\n",
      "            UP_hog_fast.csv  DOWN_hog_fast.csv  RESULT_hog_fast.csv  \n",
      "Difficulty                                                           \n",
      "E                         0                  0                  0.0  \n",
      "M                         0                  0                  0.0  \n",
      "H                         0                  0                  0.0  \n",
      "X                         0                  0                  0.0  \n"
     ]
    }
   ],
   "source": [
    "folder = '../Analysis/Cropped_all/'\n",
    "\n",
    "for filename in os.listdir(folder):\n",
    "    data = pd.read_csv(folder + filename)\n",
    "    df = pd.merge(gt, data, on='File', suffixes=('_GT', '_' + filename))\n",
    "    cols = [col for col in df.columns if 'UP' in col or 'DOWN' in col]\n",
    "    print('Average fps ' + filename, df['FPS'].mean())\n",
    "    results['UP_' + filename] = df.groupby('Difficulty')[cols].sum()['UP_' + filename]\n",
    "    results['DOWN_' + filename] = df.groupby('Difficulty')[cols].sum()['DOWN_' + filename]\n",
    "    results['RESULT_' + filename] = 1-round(abs((results['UP_' + filename] + results['DOWN_' + filename]) - (results['UP'] + results['DOWN'])) /\n",
    "                                          (results['UP'] + results['DOWN']), 2)\n",
    "print(results)"
   ]
  },
  {
   "cell_type": "code",
   "execution_count": 23,
   "metadata": {},
   "outputs": [
    {
     "name": "stdout",
     "output_type": "stream",
     "text": [
      "            RESULT_Yolo.csv  RESULT_haar_upper.csv  RESULT_hog_slow.csv  \\\n",
      "Difficulty                                                                \n",
      "E                      0.96                   0.63                 0.50   \n",
      "M                      0.68                   0.28                 0.34   \n",
      "H                      0.64                   0.16                 0.26   \n",
      "X                      0.54                   0.15                 0.15   \n",
      "\n",
      "            RESULT_MobileNet.csv  RESULT_haar_full.csv  RESULT_hog_fast.csv  \n",
      "Difficulty                                                                   \n",
      "E                           0.93                  0.28                  0.0  \n",
      "M                           0.80                  0.14                  0.0  \n",
      "H                           0.66                  0.07                  0.0  \n",
      "X                           0.69                  0.15                  0.0  \n"
     ]
    }
   ],
   "source": [
    "cols = [col for col in results.columns if 'RESULT' in col]\n",
    "analysis = results[cols]\n",
    "print(analysis)"
   ]
  },
  {
   "cell_type": "code",
   "execution_count": 24,
   "metadata": {},
   "outputs": [
    {
     "name": "stdout",
     "output_type": "stream",
     "text": [
      "Difficulty\n",
      "E    0.96\n",
      "M    0.68\n",
      "H    0.64\n",
      "X    0.54\n",
      "Name: RESULT_Yolo.csv, dtype: float64\n"
     ]
    }
   ],
   "source": [
    "print(analysis['RESULT_Yolo.csv'])"
   ]
  },
  {
   "cell_type": "code",
   "execution_count": 26,
   "metadata": {},
   "outputs": [
    {
     "data": {
      "text/plain": [
       "<matplotlib.axes._subplots.AxesSubplot at 0x7fe89fe6dac8>"
      ]
     },
     "execution_count": 26,
     "metadata": {},
     "output_type": "execute_result"
    },
    {
     "data": {
      "image/png": "[encoded data removed]",
      "text/plain": [
       "<Figure size 432x288 with 1 Axes>"
      ]
     },
     "metadata": {},
     "output_type": "display_data"
    }
   ],
   "source": [
    "analysis.plot(title='Test')"
   ]
  },
  {
   "cell_type": "code",
   "execution_count": 6,
   "metadata": {},
   "outputs": [
    {
     "name": "stdout",
     "output_type": "stream",
     "text": [
      "                File  UP_GT  DOWN_GT Difficulty  UP_MobileNet.csv  \\\n",
      "0   00:00:30.442.mp4      1        0          E                 1   \n",
      "1   00:00:40.515.mp4      0        1          E                 0   \n",
      "2   00:00:44.976.mp4      1        0          E                 1   \n",
      "3   00:00:54.431.mp4      0        1          E                 0   \n",
      "4   00:01:06.501.mp4      1        0          E                 1   \n",
      "5   00:01:08.637.mp4      1        0          E                 1   \n",
      "6   00:01:18.633.mp4      0        1          E                 0   \n",
      "7   00:01:18.718.mp4      0        1          E                 0   \n",
      "8   00:01:33.260.mp4      1        0          E                 1   \n",
      "9   00:01:35.018.mp4      1        0          E                 1   \n",
      "10  00:01:43.464.mp4      0        1          E                 0   \n",
      "11  00:01:46.723.mp4      0        1          E                 0   \n",
      "12  00:01:56.787.mp4      1        0          E                 1   \n",
      "13  00:02:06.019.mp4      0        1          E                 0   \n",
      "14  00:02:09.862.mp4      1        0          E                 1   \n",
      "15  00:02:22.882.mp4      0        1          M                 0   \n",
      "16  00:02:45.437.mp4      2        0          E                 2   \n",
      "17  00:02:56.135.mp4      2        0          E                 2   \n",
      "18  00:02:56.377.mp4      0        2          E                 0   \n",
      "19  00:03:12.339.mp4      0        2          E                 0   \n",
      "20  00:03:14.557.mp4      2        0          E                 2   \n",
      "21  00:03:24.590.mp4      0        2          E                 0   \n",
      "22  00:03:45.470.mp4      2        0          M                 1   \n",
      "23  00:03:56.751.mp4      3        0          E                 3   \n",
      "24  00:03:57.024.mp4      0        2          M                 0   \n",
      "25  00:04:09.367.mp4      0        3          E                 0   \n",
      "26  00:04:18.881.mp4      2        0          M                 2   \n",
      "27  00:04:28.936.mp4      4        0          E                 4   \n",
      "28  00:04:33.174.mp4      0        2          M                 0   \n",
      "29  00:04:41.671.mp4      0        4          H                 0   \n",
      "..               ...    ...      ...        ...               ...   \n",
      "48  00:10:18.376.mp4      1        1          M                 0   \n",
      "49  00:10:27.030.mp4      7        7          H                 6   \n",
      "50  00:10:31.171.mp4      1        2          E                 1   \n",
      "51  00:10:39.642.mp4      1        0          E                 0   \n",
      "52  00:10:54.742.mp4      7        7          H                 3   \n",
      "53  00:10:57.095.mp4      1        1          E                 1   \n",
      "54  00:11:21.904.mp4      1        1          E                 1   \n",
      "55  00:11:40.728.mp4      1        1          M                 1   \n",
      "56  00:12:19.952.mp4      0        1          M                 0   \n",
      "57  00:12:21.225.mp4      2        0          H                 2   \n",
      "58  00:12:29.397.mp4      0       12          H                 0   \n",
      "59  00:12:35.997.mp4      1        0          M                 1   \n",
      "60  00:12:52.070.mp4      0        2          H                 5   \n",
      "61  00:13:57.166.mp4      1        1          M                 0   \n",
      "62  00:14:41.820.mp4      1        2          H                 0   \n",
      "63  00:14:54.399.mp4     14        0          H                 5   \n",
      "64  00:14:57.864.mp4      0        1          E                 0   \n",
      "65  00:15:30.421.mp4      0        0          M                 1   \n",
      "66  00:15:44.934.mp4      0        0          E                 1   \n",
      "67  00:16:21.036.mp4      1        0          M                 1   \n",
      "68  00:16:51.490.mp4      0        1          M                 0   \n",
      "69  00:16:54.613.mp4      0       14          H                 4   \n",
      "70  00:17:09.138.mp4      0        0          M                 1   \n",
      "71  00:17:10.535.mp4      3        0          M                 2   \n",
      "72  00:17:57.644.mp4      2        9          X                 1   \n",
      "73  00:19:27.559.mp4     11        8          H                 8   \n",
      "74  00:20:19.787.mp4      7        9          H                 0   \n",
      "75  00:20:31.154.mp4      1        2          M                 0   \n",
      "76  00:20:47.501.mp4      1        0          X                 1   \n",
      "77  00:21:04.004.mp4      1        0          X                 1   \n",
      "\n",
      "    DOWN_MobileNet.csv        FPS  \n",
      "0                    0  30.022353  \n",
      "1                    1  29.909251  \n",
      "2                    0  29.727335  \n",
      "3                    1  29.641199  \n",
      "4                    0  29.271338  \n",
      "5                    0  29.669740  \n",
      "6                    1  30.052321  \n",
      "7                    1  29.814758  \n",
      "8                    0  29.777604  \n",
      "9                    0  30.016642  \n",
      "10                   1  29.793257  \n",
      "11                   1  30.211322  \n",
      "12                   0  29.904812  \n",
      "13                   1  29.758739  \n",
      "14                   0  29.868626  \n",
      "15                   1  30.023282  \n",
      "16                   0  29.808192  \n",
      "17                   0  29.447690  \n",
      "18                   2  29.887602  \n",
      "19                   2  26.197744  \n",
      "20                   0  29.917793  \n",
      "21                   2  29.797003  \n",
      "22                   0  29.931751  \n",
      "23                   0  29.897654  \n",
      "24                   2  29.782312  \n",
      "25                   3  30.068755  \n",
      "26                   0  28.849522  \n",
      "27                   0  30.040703  \n",
      "28                   2  29.810293  \n",
      "29                   3  29.918924  \n",
      "..                 ...        ...  \n",
      "48                   1  29.881044  \n",
      "49                   8  24.425320  \n",
      "50                   2  29.964613  \n",
      "51                   0  29.794451  \n",
      "52                   6  26.262332  \n",
      "53                   1  29.903245  \n",
      "54                   3  30.113367  \n",
      "55                   1  29.291756  \n",
      "56                   1  29.898637  \n",
      "57                   0  25.717862  \n",
      "58                   3  29.633442  \n",
      "59                   0  30.159098  \n",
      "60                   3  26.716571  \n",
      "61                   1  30.025026  \n",
      "62                   0  29.480772  \n",
      "63                   4  29.908964  \n",
      "64                   1  30.089651  \n",
      "65                   1  29.243989  \n",
      "66                   1  30.044151  \n",
      "67                   0  26.650901  \n",
      "68                   1  23.014483  \n",
      "69                  12  28.308035  \n",
      "70                   1  30.323262  \n",
      "71                   0  29.738072  \n",
      "72                   6  29.887262  \n",
      "73                   7  29.145282  \n",
      "74                   0  29.777799  \n",
      "75                   1  29.566532  \n",
      "76                   0  29.701380  \n",
      "77                   0  29.628406  \n",
      "\n",
      "[78 rows x 7 columns]\n"
     ]
    }
   ],
   "source": [
    "folder = '../Analysis/Cropped_all/'\n",
    "\n",
    "for filename in os.listdir(folder):\n",
    "    data = pd.read_csv(folder + filename)\n",
    "    df = pd.merge(gt, data, on='File', suffixes=('_GT', '_' + filename))\n",
    "print(df)"
   ]
  }
 ],
 "metadata": {
  "kernelspec": {
   "display_name": "Python 3",
   "language": "python",
   "name": "python3"
  },
  "language_info": {
   "codemirror_mode": {
    "name": "ipython",
    "version": 3
   },
   "file_extension": ".py",
   "mimetype": "text/x-python",
   "name": "python",
   "nbconvert_exporter": "python",
   "pygments_lexer": "ipython3",
   "version": "3.6.5"
  }
 },
 "nbformat": 4,
 "nbformat_minor": 1
}
