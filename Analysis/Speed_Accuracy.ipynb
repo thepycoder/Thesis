{
 "cells": [
  {
   "cell_type": "code",
   "execution_count": 1,
   "metadata": {},
   "outputs": [
    {
     "data": {
      "text/html": [
       "<script>requirejs.config({paths: { 'plotly': ['https://cdn.plot.ly/plotly-latest.min']},});if(!window.Plotly) {{require(['plotly'],function(plotly) {window.Plotly=plotly;});}}</script>"
      ],
      "text/vnd.plotly.v1+html": [
       "<script>requirejs.config({paths: { 'plotly': ['https://cdn.plot.ly/plotly-latest.min']},});if(!window.Plotly) {{require(['plotly'],function(plotly) {window.Plotly=plotly;});}}</script>"
      ]
     },
     "metadata": {},
     "output_type": "display_data"
    }
   ],
   "source": [
    "from plotly.offline import download_plotlyjs, init_notebook_mode, plot, iplot\n",
    "import plotly.graph_objs as go\n",
    "import plotly.tools as tls\n",
    "import pandas as pd\n",
    "import numpy as np\n",
    "import os\n",
    "\n",
    "init_notebook_mode(connected=True)"
   ]
  },
  {
   "cell_type": "code",
   "execution_count": 59,
   "metadata": {
    "scrolled": true
   },
   "outputs": [
    {
     "name": "stdout",
     "output_type": "stream",
     "text": [
      "0                 Difficulty          E         M           H          X  \\\n",
      "35          ACCURACY_hog_0.1  0.0333333      0.08  0.00263158          0   \n",
      "52         ACCURACY_Yolo_0.1  0.0333333      0.08   0.0133459          0   \n",
      "42   ACCURACY_SqueezeNet_0.1  0.0333333      0.08   0.0133459          0   \n",
      "9    ACCURACY_haar_upper_0.1  0.0333333      0.08           0          0   \n",
      "31    ACCURACY_MobileNet_0.1  0.0333333      0.08   0.0133459          0   \n",
      "1         ACCURACY_Yolo_0.25  0.0333333      0.08    0.028244          0   \n",
      "55  ACCURACY_haar_upper_0.25  0.0333333      0.08           0          0   \n",
      "38         ACCURACY_hog_0.25  0.0333333      0.08  0.00333333          0   \n",
      "7   ACCURACY_SqueezeNet_0.25  0.0333333      0.08   0.0371852          0   \n",
      "50   ACCURACY_MobileNet_0.25  0.0333333      0.08   0.0371852          0   \n",
      "46   ACCURACY_haar_upper_0.5  0.0333333      0.04      0.0125          0   \n",
      "48         ACCURACY_Yolo_0.5  0.0333333      0.04   0.0527882   0.030303   \n",
      "51    ACCURACY_MobileNet_0.5  0.0333333      0.04    0.120343   0.363636   \n",
      "53          ACCURACY_hog_0.5  0.0333333      0.08   0.0028869          0   \n",
      "47   ACCURACY_SqueezeNet_0.5  0.0444444      0.08   0.0460573    0.69697   \n",
      "43     ACCURACY_haar_upper_1  0.0333333      0.04  0.00977444          0   \n",
      "37     ACCURACY_SqueezeNet_1   0.519444       0.3       0.173   0.727273   \n",
      "58            ACCURACY_hog_1       0.15      0.18   0.0369345          0   \n",
      "24      ACCURACY_MobileNet_1   0.713889      0.47    0.283369   0.424242   \n",
      "30           ACCURACY_Yolo_1   0.577778      0.31    0.233195  0.0606061   \n",
      "18     ACCURACY_SqueezeNet_2   0.841667  0.493333    0.259615   0.818182   \n",
      "17      ACCURACY_MobileNet_2   0.955556  0.605714    0.439084   0.454545   \n",
      "26           ACCURACY_Yolo_2   0.752778       0.5     0.40132   0.151515   \n",
      "20     ACCURACY_haar_upper_2   0.483333      0.22   0.0727757   0.030303   \n",
      "59            ACCURACY_hog_2   0.294444       0.3    0.104497   0.030303   \n",
      "39            ACCURACY_hog_3   0.430556      0.35    0.157104   0.030303   \n",
      "49     ACCURACY_haar_upper_3   0.566667      0.31    0.126479   0.030303   \n",
      "33     ACCURACY_SqueezeNet_3   0.797222       0.6    0.254364   0.848485   \n",
      "8            ACCURACY_Yolo_3   0.955556  0.673333    0.399648   0.181818   \n",
      "41      ACCURACY_MobileNet_3   0.966667  0.753333    0.469955   0.545455   \n",
      "27     ACCURACY_haar_upper_4   0.594444      0.33    0.126015   0.030303   \n",
      "19           ACCURACY_Yolo_4   0.997222  0.609048    0.455486   0.212121   \n",
      "5             ACCURACY_hog_4   0.419444  0.355714    0.153192  0.0606061   \n",
      "15      ACCURACY_MobileNet_4   0.966667  0.699048    0.445587   0.515152   \n",
      "44     ACCURACY_SqueezeNet_4   0.730556  0.649048     0.31464   0.545455   \n",
      "25            ACCURACY_hog_5      0.475      0.35    0.182461          0   \n",
      "56           ACCURACY_Yolo_5   0.891667  0.724762    0.411302   0.212121   \n",
      "16      ACCURACY_MobileNet_5   0.966667  0.749048    0.466634   0.878788   \n",
      "22     ACCURACY_SqueezeNet_5   0.713889  0.615714    0.291081   0.545455   \n",
      "34     ACCURACY_haar_upper_5        0.6      0.39    0.136717  0.0606061   \n",
      "45     ACCURACY_MobileNet_10   0.966667  0.748095    0.530681   0.878788   \n",
      "21           ACCURACY_hog_10   0.513889      0.31    0.222592   0.030303   \n",
      "32    ACCURACY_haar_upper_10   0.644444      0.37    0.158753  0.0606061   \n",
      "6     ACCURACY_SqueezeNet_10   0.794444  0.619048    0.149164   0.545455   \n",
      "11          ACCURACY_Yolo_10   0.916667  0.698095    0.462599   0.181818   \n",
      "4           ACCURACY_Yolo_15   0.922222  0.731429    0.453551   0.212121   \n",
      "54    ACCURACY_SqueezeNet_15   0.838889  0.615714    -0.12286   0.545455   \n",
      "60    ACCURACY_haar_upper_15   0.627778      0.39    0.158051  0.0606061   \n",
      "12           ACCURACY_hog_15   0.511111  0.335714    0.239854  0.0606061   \n",
      "29     ACCURACY_MobileNet_15          1  0.748095    0.385575   0.878788   \n",
      "14          ACCURACY_Yolo_20   0.922222  0.731429    0.453551   0.212121   \n",
      "36    ACCURACY_SqueezeNet_20   0.838889  0.615714    -0.12286   0.545455   \n",
      "23    ACCURACY_haar_upper_20   0.627778      0.39    0.158051  0.0606061   \n",
      "57     ACCURACY_MobileNet_20          1  0.748095    0.385575   0.878788   \n",
      "2            ACCURACY_hog_20   0.511111  0.335714    0.239854  0.0606061   \n",
      "13    ACCURACY_haar_upper_25   0.638889      0.41    0.151516   0.393939   \n",
      "28          ACCURACY_Yolo_25   0.938889  0.731429    0.531272   0.181818   \n",
      "3     ACCURACY_SqueezeNet_25   0.805556  0.535714   -0.501317   0.878788   \n",
      "10     ACCURACY_MobileNet_25          1  0.794762    0.219861   0.878788   \n",
      "40           ACCURACY_hog_25   0.502778  0.295714    0.280249  0.0606061   \n",
      "\n",
      "0    AVG_ACC  SPEED        ALGO  \n",
      "35  0.038655   0.10         hog  \n",
      "52  0.042226   0.10        Yolo  \n",
      "42  0.042226   0.10  SqueezeNet  \n",
      "9   0.037778   0.10        haar  \n",
      "31  0.042226   0.10   MobileNet  \n",
      "1   0.047192   0.25        Yolo  \n",
      "55  0.037778   0.25        haar  \n",
      "38  0.038889   0.25         hog  \n",
      "7   0.050173   0.25  SqueezeNet  \n",
      "50  0.050173   0.25   MobileNet  \n",
      "46  0.028611   0.50        haar  \n",
      "48  0.042041   0.50        Yolo  \n",
      "51  0.064559   0.50   MobileNet  \n",
      "53  0.038740   0.50         hog  \n",
      "47  0.056834   0.50  SqueezeNet  \n",
      "43  0.027703   1.00        haar  \n",
      "37  0.330815   1.00  SqueezeNet  \n",
      "58  0.122312   1.00         hog  \n",
      "24  0.489086   1.00   MobileNet  \n",
      "30  0.373658   1.00        Yolo  \n",
      "18  0.531538   2.00  SqueezeNet  \n",
      "17  0.666784   2.00   MobileNet  \n",
      "26  0.551366   2.00        Yolo  \n",
      "20  0.258703   2.00        haar  \n",
      "59  0.232981   2.00         hog  \n",
      "39  0.312553   3.00         hog  \n",
      "49  0.334382   3.00        haar  \n",
      "33  0.550529   3.00  SqueezeNet  \n",
      "8   0.676179   3.00        Yolo  \n",
      "41  0.729985   3.00   MobileNet  \n",
      "27  0.350153   4.00        haar  \n",
      "19  0.687252   4.00        Yolo  \n",
      "5   0.309450   4.00         hog  \n",
      "15  0.703767   4.00   MobileNet  \n",
      "44  0.564748   4.00  SqueezeNet  \n",
      "25  0.335820   5.00         hog  \n",
      "56  0.675910   5.00        Yolo  \n",
      "16  0.727449   5.00   MobileNet  \n",
      "22  0.540228   5.00  SqueezeNet  \n",
      "34  0.375572   5.00        haar  \n",
      "45  0.748481  10.00   MobileNet  \n",
      "21  0.348827  10.00         hog  \n",
      "32  0.391066  10.00        haar  \n",
      "6   0.520885  10.00  SqueezeNet  \n",
      "11  0.692454  10.00        Yolo  \n",
      "4   0.702401  15.00        Yolo  \n",
      "54  0.443914  15.00  SqueezeNet  \n",
      "60  0.391943  15.00        haar  \n",
      "12  0.362227  15.00         hog  \n",
      "29  0.711223  15.00   MobileNet  \n",
      "14  0.702401  20.00        Yolo  \n",
      "36  0.443914  20.00  SqueezeNet  \n",
      "23  0.391943  20.00        haar  \n",
      "57  0.711223  20.00   MobileNet  \n",
      "2   0.362227  20.00         hog  \n",
      "13  0.400135  25.00        haar  \n",
      "28  0.733863  25.00        Yolo  \n",
      "3   0.279984  25.00  SqueezeNet  \n",
      "10  0.671541  25.00   MobileNet  \n",
      "40  0.359580  25.00         hog  \n"
     ]
    }
   ],
   "source": [
    "foldername = '../Analysis/FPS/'\n",
    "gt = pd.read_csv('../Groundtruth/Groundtruth.csv')\n",
    "accuracy_results = pd.DataFrame({'Difficulty': ['E', 'M', 'H', 'X']})\n",
    "\n",
    "for filename in os.listdir(foldername):\n",
    "    data = pd.read_csv(foldername + filename)\n",
    "    df = pd.merge(gt, data, on='File', suffixes=('_GT', '_' + filename))\n",
    "\n",
    "    accuracy = []\n",
    "\n",
    "    for index, row in df.iterrows():\n",
    "        if row['UP_GT'] + row['DOWN_GT'] > 0:\n",
    "            accuracy.append(1-(abs(row['UP_' + filename] - row['UP_GT']) + abs(row['DOWN_' + filename] - row['DOWN_GT'])) / (row['UP_GT'] + row['DOWN_GT']))\n",
    "        else:\n",
    "            accuracy.append(1-abs(row['UP_' + filename] - row['UP_GT']) + abs(row['DOWN_' + filename] - row['DOWN_GT']))\n",
    "\n",
    "    df['ACCURACY'] = accuracy\n",
    "\n",
    "    final_accuracy = df.groupby('Difficulty')['ACCURACY'].mean().reset_index()\n",
    "    final_accuracy.rename(columns={'ACCURACY': 'ACCURACY_' + filename.split('.c')[0]}, inplace=True)\n",
    "\n",
    "\n",
    "    accuracy_results = pd.merge(accuracy_results, final_accuracy, on='Difficulty')\n",
    "    \n",
    "accuracy_results = accuracy_results.T.reset_index()\n",
    "\n",
    "new_header = accuracy_results.iloc[0] #grab the first row for the header\n",
    "accuracy_results = accuracy_results[1:] #take the data less the header row\n",
    "accuracy_results.columns = new_header #set the header row as the df header\n",
    "\n",
    "accuracy_results['AVG_ACC'] = (accuracy_results['E'] + accuracy_results['M'] + accuracy_results['H']) / 3\n",
    "accuracy_results['SPEED'] = accuracy_results['Difficulty'].map(lambda x: x.split('_')[-1])\n",
    "accuracy_results['ALGO'] = accuracy_results['Difficulty'].map(lambda x: x.split('_')[1])\n",
    "\n",
    "accuracy_results[['AVG_ACC','SPEED']] = accuracy_results[['AVG_ACC','SPEED']].apply(pd.to_numeric)\n",
    "accuracy_results = accuracy_results.sort_values('SPEED')\n",
    "\n",
    "print(accuracy_results)"
   ]
  },
  {
   "cell_type": "code",
   "execution_count": 68,
   "metadata": {},
   "outputs": [
    {
     "data": {
      "application/vnd.plotly.v1+json": {
       "data": [
        {
         "mode": "lines",
         "name": "MobileNet",
         "type": "scatter",
         "x": [
          0.1,
          0.25,
          0.5,
          1,
          2,
          3,
          4,
          5,
          10,
          15,
          20,
          25
         ],
         "y": [
          0.042226399331662494,
          0.050172827903091057,
          0.06455879281537176,
          0.4890860832637148,
          0.6667844959621275,
          0.7299848579782791,
          0.7037672305764411,
          0.7274493525480367,
          0.7484810985797828,
          0.7112233709273182,
          0.7112233709273182,
          0.6715408312447786
         ]
        },
        {
         "mode": "lines",
         "name": "SqueezeNet",
         "type": "scatter",
         "x": [
          0.1,
          0.25,
          0.5,
          1,
          2,
          3,
          4,
          5,
          10,
          15,
          20,
          25
         ],
         "y": [
          0.042226399331662494,
          0.050172827903091057,
          0.056833925090504035,
          0.3308147103870788,
          0.5315382205513784,
          0.5505287524366471,
          0.5647476329713171,
          0.5402280005569479,
          0.5208851991088833,
          0.44391429963798384,
          0.44391429963798384,
          0.2799841617933723
         ]
        },
        {
         "mode": "lines",
         "name": "haar",
         "type": "scatter",
         "x": [
          0.1,
          0.25,
          0.5,
          1,
          2,
          3,
          4,
          5,
          10,
          15,
          20,
          25
         ],
         "y": [
          0.03777777777777778,
          0.03777777777777778,
          0.02861111111111111,
          0.027702589807852965,
          0.258703007518797,
          0.3343817878028404,
          0.35015316067947655,
          0.3755722639933166,
          0.3910658590921749,
          0.39194305207463104,
          0.39194305207463104,
          0.400135059871902
         ]
        },
        {
         "mode": "lines",
         "name": "hog",
         "type": "scatter",
         "x": [
          0.1,
          0.25,
          0.5,
          1,
          2,
          3,
          4,
          5,
          10,
          15,
          20,
          25
         ],
         "y": [
          0.03865497076023392,
          0.03888888888888889,
          0.038740079365079366,
          0.12231150793650791,
          0.23298054163185736,
          0.3125530840991367,
          0.3094503620161515,
          0.3358202798663325,
          0.34882710247841825,
          0.36222657337788916,
          0.36222657337788916,
          0.35958037454747976
         ]
        },
        {
         "mode": "lines",
         "name": "Yolo",
         "type": "scatter",
         "x": [
          0.1,
          0.25,
          0.5,
          1,
          2,
          3,
          4,
          5,
          10,
          15,
          20,
          25
         ],
         "y": [
          0.042226399331662494,
          0.04719246031746032,
          0.04204051796157059,
          0.3736577554998608,
          0.551366088833194,
          0.6761788150932889,
          0.6872518100807574,
          0.6759100877192982,
          0.692453529657477,
          0.702400619604567,
          0.702400619604567,
          0.7338631300473407
         ]
        }
       ],
       "layout": {
        "title": "Speed Accuracy Trade-off",
        "xaxis": {
         "title": "Speed (Frames Per Second)"
        },
        "yaxis": {
         "title": "Accuracy"
        }
       }
      },
      "text/html": [
       "<div id=\"243ebbf2-7fe0-4bd6-9f15-b8d0d0648ae3\" style=\"height: 525px; width: 100%;\" class=\"plotly-graph-div\"></div><script type=\"text/javascript\">require([\"plotly\"], function(Plotly) { window.PLOTLYENV=window.PLOTLYENV || {};window.PLOTLYENV.BASE_URL=\"https://plot.ly\";Plotly.newPlot(\"243ebbf2-7fe0-4bd6-9f15-b8d0d0648ae3\", [{\"type\": \"scatter\", \"y\": [0.042226399331662494, 0.050172827903091057, 0.06455879281537176, 0.4890860832637148, 0.6667844959621275, 0.7299848579782791, 0.7037672305764411, 0.7274493525480367, 0.7484810985797828, 0.7112233709273182, 0.7112233709273182, 0.6715408312447786], \"x\": [0.1, 0.25, 0.5, 1.0, 2.0, 3.0, 4.0, 5.0, 10.0, 15.0, 20.0, 25.0], \"mode\": \"lines\", \"name\": \"MobileNet\"}, {\"type\": \"scatter\", \"y\": [0.042226399331662494, 0.050172827903091057, 0.056833925090504035, 0.3308147103870788, 0.5315382205513784, 0.5505287524366471, 0.5647476329713171, 0.5402280005569479, 0.5208851991088833, 0.44391429963798384, 0.44391429963798384, 0.2799841617933723], \"x\": [0.1, 0.25, 0.5, 1.0, 2.0, 3.0, 4.0, 5.0, 10.0, 15.0, 20.0, 25.0], \"mode\": \"lines\", \"name\": \"SqueezeNet\"}, {\"type\": \"scatter\", \"y\": [0.03777777777777778, 0.03777777777777778, 0.02861111111111111, 0.027702589807852965, 0.258703007518797, 0.3343817878028404, 0.35015316067947655, 0.3755722639933166, 0.3910658590921749, 0.39194305207463104, 0.39194305207463104, 0.400135059871902], \"x\": [0.1, 0.25, 0.5, 1.0, 2.0, 3.0, 4.0, 5.0, 10.0, 15.0, 20.0, 25.0], \"mode\": \"lines\", \"name\": \"haar\"}, {\"type\": \"scatter\", \"y\": [0.03865497076023392, 0.03888888888888889, 0.038740079365079366, 0.12231150793650791, 0.23298054163185736, 0.3125530840991367, 0.3094503620161515, 0.3358202798663325, 0.34882710247841825, 0.36222657337788916, 0.36222657337788916, 0.35958037454747976], \"x\": [0.1, 0.25, 0.5, 1.0, 2.0, 3.0, 4.0, 5.0, 10.0, 15.0, 20.0, 25.0], \"mode\": \"lines\", \"name\": \"hog\"}, {\"type\": \"scatter\", \"y\": [0.042226399331662494, 0.04719246031746032, 0.04204051796157059, 0.3736577554998608, 0.551366088833194, 0.6761788150932889, 0.6872518100807574, 0.6759100877192982, 0.692453529657477, 0.702400619604567, 0.702400619604567, 0.7338631300473407], \"x\": [0.1, 0.25, 0.5, 1.0, 2.0, 3.0, 4.0, 5.0, 10.0, 15.0, 20.0, 25.0], \"mode\": \"lines\", \"name\": \"Yolo\"}], {\"title\": \"Speed Accuracy Trade-off\", \"yaxis\": {\"title\": \"Accuracy\"}, \"xaxis\": {\"title\": \"Speed (Frames Per Second)\"}}, {\"showLink\": true, \"linkText\": \"Export to plot.ly\"})});</script>"
      ],
      "text/vnd.plotly.v1+html": [
       "<div id=\"243ebbf2-7fe0-4bd6-9f15-b8d0d0648ae3\" style=\"height: 525px; width: 100%;\" class=\"plotly-graph-div\"></div><script type=\"text/javascript\">require([\"plotly\"], function(Plotly) { window.PLOTLYENV=window.PLOTLYENV || {};window.PLOTLYENV.BASE_URL=\"https://plot.ly\";Plotly.newPlot(\"243ebbf2-7fe0-4bd6-9f15-b8d0d0648ae3\", [{\"type\": \"scatter\", \"y\": [0.042226399331662494, 0.050172827903091057, 0.06455879281537176, 0.4890860832637148, 0.6667844959621275, 0.7299848579782791, 0.7037672305764411, 0.7274493525480367, 0.7484810985797828, 0.7112233709273182, 0.7112233709273182, 0.6715408312447786], \"x\": [0.1, 0.25, 0.5, 1.0, 2.0, 3.0, 4.0, 5.0, 10.0, 15.0, 20.0, 25.0], \"mode\": \"lines\", \"name\": \"MobileNet\"}, {\"type\": \"scatter\", \"y\": [0.042226399331662494, 0.050172827903091057, 0.056833925090504035, 0.3308147103870788, 0.5315382205513784, 0.5505287524366471, 0.5647476329713171, 0.5402280005569479, 0.5208851991088833, 0.44391429963798384, 0.44391429963798384, 0.2799841617933723], \"x\": [0.1, 0.25, 0.5, 1.0, 2.0, 3.0, 4.0, 5.0, 10.0, 15.0, 20.0, 25.0], \"mode\": \"lines\", \"name\": \"SqueezeNet\"}, {\"type\": \"scatter\", \"y\": [0.03777777777777778, 0.03777777777777778, 0.02861111111111111, 0.027702589807852965, 0.258703007518797, 0.3343817878028404, 0.35015316067947655, 0.3755722639933166, 0.3910658590921749, 0.39194305207463104, 0.39194305207463104, 0.400135059871902], \"x\": [0.1, 0.25, 0.5, 1.0, 2.0, 3.0, 4.0, 5.0, 10.0, 15.0, 20.0, 25.0], \"mode\": \"lines\", \"name\": \"haar\"}, {\"type\": \"scatter\", \"y\": [0.03865497076023392, 0.03888888888888889, 0.038740079365079366, 0.12231150793650791, 0.23298054163185736, 0.3125530840991367, 0.3094503620161515, 0.3358202798663325, 0.34882710247841825, 0.36222657337788916, 0.36222657337788916, 0.35958037454747976], \"x\": [0.1, 0.25, 0.5, 1.0, 2.0, 3.0, 4.0, 5.0, 10.0, 15.0, 20.0, 25.0], \"mode\": \"lines\", \"name\": \"hog\"}, {\"type\": \"scatter\", \"y\": [0.042226399331662494, 0.04719246031746032, 0.04204051796157059, 0.3736577554998608, 0.551366088833194, 0.6761788150932889, 0.6872518100807574, 0.6759100877192982, 0.692453529657477, 0.702400619604567, 0.702400619604567, 0.7338631300473407], \"x\": [0.1, 0.25, 0.5, 1.0, 2.0, 3.0, 4.0, 5.0, 10.0, 15.0, 20.0, 25.0], \"mode\": \"lines\", \"name\": \"Yolo\"}], {\"title\": \"Speed Accuracy Trade-off\", \"yaxis\": {\"title\": \"Accuracy\"}, \"xaxis\": {\"title\": \"Speed (Frames Per Second)\"}}, {\"showLink\": true, \"linkText\": \"Export to plot.ly\"})});</script>"
      ]
     },
     "metadata": {},
     "output_type": "display_data"
    }
   ],
   "source": [
    "algos = ['MobileNet', 'SqueezeNet', 'haar', 'hog', 'Yolo']\n",
    "traces = []\n",
    "\n",
    "for algo in algos:\n",
    "    trace = go.Scatter(\n",
    "        y=accuracy_results[accuracy_results['ALGO'] == algo]['AVG_ACC'],\n",
    "        x=accuracy_results[accuracy_results['ALGO'] == algo]['SPEED'],\n",
    "        mode='lines',\n",
    "        name=algo\n",
    "    )\n",
    "    traces.append(trace)\n",
    "    \n",
    "data = traces\n",
    "layout = dict(\n",
    "    title = 'Speed Accuracy Trade-off',\n",
    "    yaxis = dict(title = 'Accuracy'),\n",
    "    xaxis = dict(title = 'Speed (Frames Per Second)'),\n",
    ")\n",
    "fig = dict(data=data, layout=layout)\n",
    "iplot(fig)"
   ]
  }
 ],
 "metadata": {
  "kernelspec": {
   "display_name": "Python 3",
   "language": "python",
   "name": "python3"
  },
  "language_info": {
   "codemirror_mode": {
    "name": "ipython",
    "version": 3
   },
   "file_extension": ".py",
   "mimetype": "text/x-python",
   "name": "python",
   "nbconvert_exporter": "python",
   "pygments_lexer": "ipython3",
   "version": "3.6.5"
  }
 },
 "nbformat": 4,
 "nbformat_minor": 2
}
